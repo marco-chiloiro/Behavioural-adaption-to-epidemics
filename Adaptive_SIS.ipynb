{
 "cells": [
  {
   "cell_type": "code",
   "execution_count": 1,
   "metadata": {},
   "outputs": [],
   "source": [
    "import numpy as np\n",
    "import matplotlib.pyplot as plt\n",
    "import networkx as nx\n",
    "from tqdm import tqdm"
   ]
  },
  {
   "cell_type": "markdown",
   "metadata": {},
   "source": [
    "## Adaptive Network"
   ]
  },
  {
   "cell_type": "code",
   "execution_count": 2,
   "metadata": {},
   "outputs": [],
   "source": [
    "def adaptive_SIS(net, beta, mu, n_iter, initial_infected, w, tol=1e-5):\n",
    "    \"\"\"\n",
    "    Simulate the adaptive SIS model on a graph.\n",
    "\n",
    "    Parameters\n",
    "    ----------\n",
    "    G : nx.Graph\n",
    "        The graph on which to simulate the model.\n",
    "    beta : float\n",
    "        The infection rate.\n",
    "    mu : float\n",
    "        The recovery rate.\n",
    "    n_iter : int\n",
    "        The number of time steps to simulate.\n",
    "    initial_infected : int\n",
    "        The number of initial infected nodes.\n",
    "    w: float\n",
    "        Probability of rewiring\n",
    "    \n",
    "    Returns\n",
    "    -------\n",
    "    i : list\n",
    "        The number of infected nodes once converged.\n",
    "    \"\"\"\n",
    "    G = net.copy()\n",
    "    # Initialize the state of the nodes\n",
    "    N = G.number_of_nodes()\n",
    "    nx.set_node_attributes(G, 0, 'state')\n",
    "    # Infect the initial infected nodes at random\n",
    "    infected = np.random.choice(G.nodes, initial_infected, replace=False)\n",
    "    for i in infected:\n",
    "        G.nodes[i]['state'] = 1\n",
    "\n",
    "    # Simulate the model\n",
    "    i_vec = np.array([])\n",
    "    for t in range(n_iter):\n",
    "        # # check the number of self loops and multiple edges\n",
    "        # print('Number of self loops: ', nx.number_of_selfloops(G))\n",
    "        # print('Number of multiple edges: ', G.number_of_edges())\n",
    "\n",
    "        # Update topology\n",
    "\n",
    "        # For each node\n",
    "        for i in G.nodes:\n",
    "            # If the node is susceptible\n",
    "            if G.nodes[i]['state'] == 0:\n",
    "                # get the neighbors of the node\n",
    "                neighbors = list(G.neighbors(i))\n",
    "                # count the number of infected neighbors\n",
    "                n_infected = np.sum([G.nodes[neighbor]['state'] for neighbor in neighbors])\n",
    "                if n_infected > 0:\n",
    "                    # change the edge to a random susceptible node with probability w\n",
    "                    edge_to_change = np.array([])\n",
    "                    for neighbor in neighbors:\n",
    "                        if G.nodes[neighbor]['state'] == 1: \n",
    "                            if np.random.rand() < w:\n",
    "                                edge_to_change = np.append(edge_to_change, neighbor)\n",
    "                    # change the edge \n",
    "                    for neighbor in edge_to_change:\n",
    "                        # if there exists a susceptible node different from the neighbors of i and the node i\n",
    "                        if len([j for j in G.nodes if G.nodes[j]['state'] == 0 and j not in neighbors and j != i]) > 0:\n",
    "                            # choose a random susceptible node\n",
    "                            new_neighbor = np.random.choice([j for j in G.nodes if G.nodes[j]['state'] == 0 and j not in neighbors and j != i])\n",
    "                            # remove the edge between i and neighbor\n",
    "                            G.remove_edge(i, neighbor)\n",
    "                            # add the edge between i and new_neighbor\n",
    "                            G.add_edge(i, new_neighbor)\n",
    "\n",
    "        # Update the state of the nodes (at the end of the loop over the nodes)\n",
    "\n",
    "        new_states = {}                       \n",
    "        for i in G.nodes:\n",
    "            if G.nodes[i]['state'] == 0:\n",
    "                for j in G.neighbors(i):\n",
    "                    if G.nodes[j]['state'] == 1:\n",
    "                        if np.random.rand() < beta:\n",
    "                            new_states[i] = 1\n",
    "                            break\n",
    "            # If the node is infected\n",
    "            else:\n",
    "                if np.random.rand() < mu:\n",
    "                    new_states[i] = 0\n",
    "        # update the state of the nodes\n",
    "        for i, s in new_states.items():\n",
    "            G.nodes[i]['state'] = s\n",
    "\n",
    "        i_vec = np.append(i_vec, sum([G.nodes[i]['state'] for i in G.nodes])/N)\n",
    "        # stop if the number of infected nodes is 0\n",
    "        if np.isclose(sum([G.nodes[i]['state'] for i in G.nodes]), 0):\n",
    "            break\n",
    "        # stop if the number of infected nodes is N\n",
    "        if np.isclose(sum([G.nodes[i]['state'] for i in G.nodes]), N):\n",
    "            break\n",
    "        # stop if the variance of the last 10 iterations is less than 0.01\n",
    "        if t > 50:\n",
    "            if np.var(i_vec[-50:]) < tol:\n",
    "                break\n",
    "        \n",
    "    # print('Number of infected nodes: ', sum([G.nodes[i]['state']/N for i in G.nodes]))\n",
    "    # Count the number of infected nodes at the end of the simulation\n",
    "    i = sum([G.nodes[i]['state'] for i in G.nodes])/N\n",
    "    print('Fraction of infected nodes: ', i, '; Initial infected nodes: ', initial_infected, '; Number of iterations: ', t)\n",
    "    return i\n",
    "\n",
    "\n",
    "def RK4(x0, h, Tmax, f, **kwargs):\n",
    "    \"\"\"\n",
    "    Runge-Kutta 4 method\n",
    "\n",
    "    Parameters\n",
    "    ----------\n",
    "    x0 : array\n",
    "        initial values\n",
    "    h : float\n",
    "        step size\n",
    "    Tmax : float\n",
    "        maximum time\n",
    "    f : function\n",
    "        function to be integrated\n",
    "    \"\"\"\n",
    "    x = np.array([x0])\n",
    "    t = np.array([0])\n",
    "    while t[-1] < Tmax:\n",
    "        k1 = h*f(x[-1], **kwargs)\n",
    "        k2 = h*f(x[-1] + k1/2, **kwargs)\n",
    "        k3 = h*f(x[-1] + k2/2, **kwargs)\n",
    "        k4 = h*f(x[-1] + k3, **kwargs)\n",
    "        x = np.append(x, [x[-1] + (k1 + 2*k2 + 2*k3 + k4)/6], axis=0)\n",
    "        t = np.append(t, t[-1] + h)\n",
    "    return x, t\n",
    "\n",
    "def adaptive_mf(x, param_list, mean_degree):\n",
    "    \"\"\"\n",
    "    Parameters\n",
    "    ----------\n",
    "    x : array\n",
    "        array of values (i, l_ii, l_ss)\n",
    "    param_list : list\n",
    "        list of parameters (beta, mu, w)\n",
    "    \n",
    "    Returns \n",
    "    ------- \n",
    "    array\n",
    "        array of derivatives\n",
    "    \"\"\"\n",
    "    beta, mu, w = param_list[0], param_list[1], param_list[2]\n",
    "\n",
    "    i, l_ii, l_ss = x[0], x[1], x[2]\n",
    "    s = 1 - i\n",
    "    l_si = mean_degree/2 - l_ii - l_ss\n",
    "\n",
    "    di = -mu*i + beta*l_si\n",
    "    dl_ii = -2*mu*l_ii + beta*l_si*(l_si/s + 1)\n",
    "    dl_ss = -2*beta*l_si*l_ss/s + (mu+w)*l_si\n",
    "    return np.array([di, dl_ii, dl_ss])\n",
    "\n",
    "def critical_beta(mu, w, mean_degree):\n",
    "    \"\"\"\n",
    "    Parameters\n",
    "    ----------\n",
    "    mu : float\n",
    "        recovery rate\n",
    "    w : float\n",
    "        probability of rewiring\n",
    "    mean_degree : float\n",
    "        mean degree of the network\n",
    "    \n",
    "    Returns\n",
    "    -------\n",
    "    float\n",
    "        critical beta\n",
    "    \"\"\"\n",
    "    if w == 0:\n",
    "        return mu/mean_degree\n",
    "    else:\n",
    "        return w/(mean_degree*(1-np.exp(-w/mu)))\n",
    "    \n",
    "def make_analytical_graph(N, p, mu, beta_list, w, m_low, m_high, h, Tmax):\n",
    "    \"\"\"\n",
    "    \n",
    "    Parameters\n",
    "    ----------\n",
    "    N : int\n",
    "        number of nodes\n",
    "    p : float\n",
    "        probability of connection\n",
    "    mu : float\n",
    "        recovery rate\n",
    "    beta_list : list\n",
    "        list of beta values\n",
    "    w : float\n",
    "        probability of rewiring\n",
    "    m_low : int\n",
    "        low number of initial infected nodes\n",
    "    m_high : int\n",
    "        high number of initial infected nodes\n",
    "    h : float\n",
    "        step size\n",
    "    Tmax : float\n",
    "        maximum time\n",
    "\n",
    "    Returns\n",
    "    -------\n",
    "    fig : matplotlib.figure.Figure\n",
    "        figure of the plot\n",
    "    \"\"\"\n",
    "\n",
    "    mean_degree = p*(N-1)\n",
    "\n",
    "    # initial conditions\n",
    "    i = m_low/N\n",
    "    l_ii = (i**2)*mean_degree/2\n",
    "    l_ss = ((1-i)**2)*mean_degree/2\n",
    "    initial_conditions_low = [i, l_ii, l_ss]\n",
    "\n",
    "    i = m_high/N\n",
    "    l_ii = (i**2)*mean_degree/2\n",
    "    l_ss = ((1-i)**2)*mean_degree/2\n",
    "    initial_conditions_high = [i, l_ii, l_ss]\n",
    "\n",
    "\n",
    "    i_low_list = np.array([])\n",
    "    i_high_list = np.array([])\n",
    "    for b in tqdm(beta_list):\n",
    "        x_low, _ = RK4(initial_conditions_low, h, Tmax, adaptive_mf, param_list=[b, mu, w], mean_degree=mean_degree)\n",
    "        i_low_list = np.append(i_low_list, x_low[-1, 0])\n",
    "        x_high, _ = RK4(initial_conditions_high, h, Tmax, adaptive_mf, param_list=[b, mu, w], mean_degree=mean_degree)\n",
    "        i_high_list = np.append(i_high_list, x_high[-1, 0])\n",
    "\n",
    "    \n",
    "    print('p*(w=0)', mu/mean_degree)\n",
    "    print('p*(w)', w/(mean_degree*(1-np.exp(-w/mu))))\n",
    "\n",
    "    plt.figure(figsize=(10, 7))\n",
    "    plt.title(f'Rewiring probability w = {w}', fontsize=15)\n",
    "    plt.plot(beta_list, i_low_list, label=r'$i_0 = 0.01$')\n",
    "    plt.plot(beta_list, i_high_list, label=r'$i_0 = 0.9$', alpha=0.7)\n",
    "    plt.xlabel(r'$\\beta$', fontsize=15)\n",
    "    plt.ylabel('i*', fontsize=15) \n",
    "    plt.grid()\n",
    "    plt.vlines(critical_beta(mu, w, mean_degree), -1, 2, color='black', linestyle='--', alpha=0.5, label=r'$\\beta_c(w)$')\n",
    "    plt.ylim(-0.05, 1.05)\n",
    "    plt.legend(fontsize=15)\n",
    "    plt.show()"
   ]
  },
  {
   "cell_type": "markdown",
   "metadata": {},
   "source": [
    "#### Numerical solution"
   ]
  },
  {
   "cell_type": "code",
   "execution_count": 3,
   "metadata": {},
   "outputs": [
    {
     "name": "stderr",
     "output_type": "stream",
     "text": [
      "100%|██████████| 50/50 [00:02<00:00, 24.89it/s]\n",
      "/var/folders/lx/thnwywfs79x9xsl2bq8yrjy00000gn/T/ipykernel_28817/1366087031.py:232: RuntimeWarning: invalid value encountered in scalar divide\n",
      "  print('p*(w)', w/(mean_degree*(1-np.exp(-w/mu))))\n"
     ]
    },
    {
     "name": "stdout",
     "output_type": "stream",
     "text": [
      "p*(w=0) 0.001001001001001001\n",
      "p*(w) nan\n"
     ]
    },
    {
     "data": {
      "image/png": "[encoded data removed]",
      "text/plain": [
       "<Figure size 1000x700 with 1 Axes>"
      ]
     },
     "metadata": {},
     "output_type": "display_data"
    },
    {
     "name": "stderr",
     "output_type": "stream",
     "text": [
      "100%|██████████| 50/50 [00:01<00:00, 25.31it/s]\n"
     ]
    },
    {
     "name": "stdout",
     "output_type": "stream",
     "text": [
      "p*(w=0) 0.001001001001001001\n",
      "p*(w) 0.010010464484394492\n"
     ]
    },
    {
     "data": {
      "image/png": "[encoded data removed]",
      "text/plain": [
       "<Figure size 1000x700 with 1 Axes>"
      ]
     },
     "metadata": {},
     "output_type": "display_data"
    },
    {
     "name": "stderr",
     "output_type": "stream",
     "text": [
      "100%|██████████| 50/50 [00:01<00:00, 25.34it/s]\n"
     ]
    },
    {
     "name": "stdout",
     "output_type": "stream",
     "text": [
      "p*(w=0) 0.001001001001001001\n",
      "p*(w) 0.02502502502537257\n"
     ]
    },
    {
     "data": {
      "image/png": "[encoded data removed]",
      "text/plain": [
       "<Figure size 1000x700 with 1 Axes>"
      ]
     },
     "metadata": {},
     "output_type": "display_data"
    }
   ],
   "source": [
    "# network\n",
    "N = 10**3\n",
    "p = 0.02\n",
    "\n",
    "# epidemic parameters\n",
    "mu = 0.02\n",
    "beta_list = np.linspace(0, 0.04, 50)\n",
    "w_list = [0, 0.2, 0.5]\n",
    "\n",
    "# initial conditions\n",
    "m_low = 10\n",
    "m_high = 900\n",
    "\n",
    "# RG parameters\n",
    "h = 1\n",
    "Tmax = 1000\n",
    "\n",
    "for w in w_list:\n",
    "    make_analytical_graph(N, p, mu, beta_list, w, m_low, m_high, h, Tmax)"
   ]
  },
  {
   "cell_type": "markdown",
   "metadata": {},
   "source": [
    "#### Numerical simulation"
   ]
  },
  {
   "cell_type": "code",
   "execution_count": 4,
   "metadata": {},
   "outputs": [],
   "source": [
    "def make_numerical_graph(G, mu, beta_list, w, m_low, m_high, n_iter, tol):\n",
    "    # Simulate the model and plot the results for different values of beta\n",
    "    i_list_low = np.array([])\n",
    "    i_list_high = np.array([])\n",
    "    for beta in tqdm(beta_list):\n",
    "        #print('beta: ', beta)\n",
    "        i_low = adaptive_SIS(G, beta, mu, n_iter, m_low, w, tol)\n",
    "        i_high = adaptive_SIS(G, beta, mu, n_iter, m_high, w, tol)\n",
    "        i_list_low = np.append(i_list_low, i_low)\n",
    "        i_list_high = np.append(i_list_high, i_high)\n",
    "\n",
    "    plt.figure(figsize=(10, 7))\n",
    "    plt.plot(beta_list, i_list_low, 'o', label=r'$i_0 = 0.01$')\n",
    "    plt.plot(beta_list, i_list_high, '.', color='red', label=r'$i_0 = 0.9$')\n",
    "    plt.xlabel(r'$\\beta$', fontsize=15)\n",
    "    plt.title(f'Rewiring probability w = {w}', fontsize=15)\n",
    "    plt.ylabel('i*', fontsize=15)\n",
    "    plt.grid()\n",
    "    plt.legend(fontsize=15)\n",
    "    plt.show()"
   ]
  },
  {
   "cell_type": "code",
   "execution_count": 5,
   "metadata": {},
   "outputs": [
    {
     "name": "stderr",
     "output_type": "stream",
     "text": [
      "  0%|          | 0/50 [00:00<?, ?it/s]"
     ]
    },
    {
     "name": "stdout",
     "output_type": "stream",
     "text": [
      "Fraction of infected nodes:  0.002 ; Initial infected nodes:  10 ; Number of iterations:  51\n"
     ]
    },
    {
     "name": "stderr",
     "output_type": "stream",
     "text": [
      "  2%|▏         | 1/50 [00:03<02:44,  3.35s/it]"
     ]
    },
    {
     "name": "stdout",
     "output_type": "stream",
     "text": [
      "Fraction of infected nodes:  0.01 ; Initial infected nodes:  900 ; Number of iterations:  243\n",
      "Fraction of infected nodes:  0.009 ; Initial infected nodes:  10 ; Number of iterations:  51\n"
     ]
    },
    {
     "name": "stderr",
     "output_type": "stream",
     "text": [
      "  4%|▍         | 2/50 [00:07<03:16,  4.10s/it]"
     ]
    },
    {
     "name": "stdout",
     "output_type": "stream",
     "text": [
      "Fraction of infected nodes:  0.054 ; Initial infected nodes:  900 ; Number of iterations:  354\n",
      "Fraction of infected nodes:  0.362 ; Initial infected nodes:  10 ; Number of iterations:  499\n"
     ]
    },
    {
     "name": "stderr",
     "output_type": "stream",
     "text": [
      "  6%|▌         | 3/50 [00:19<05:47,  7.39s/it]"
     ]
    },
    {
     "name": "stdout",
     "output_type": "stream",
     "text": [
      "Fraction of infected nodes:  0.393 ; Initial infected nodes:  900 ; Number of iterations:  499\n",
      "Fraction of infected nodes:  0.557 ; Initial infected nodes:  10 ; Number of iterations:  499\n"
     ]
    },
    {
     "name": "stderr",
     "output_type": "stream",
     "text": [
      "  8%|▊         | 4/50 [00:28<06:21,  8.29s/it]"
     ]
    },
    {
     "name": "stdout",
     "output_type": "stream",
     "text": [
      "Fraction of infected nodes:  0.577 ; Initial infected nodes:  900 ; Number of iterations:  499\n",
      "Fraction of infected nodes:  0.691 ; Initial infected nodes:  10 ; Number of iterations:  499\n"
     ]
    },
    {
     "name": "stderr",
     "output_type": "stream",
     "text": [
      " 10%|█         | 5/50 [00:36<05:58,  7.97s/it]"
     ]
    },
    {
     "name": "stdout",
     "output_type": "stream",
     "text": [
      "Fraction of infected nodes:  0.637 ; Initial infected nodes:  900 ; Number of iterations:  499\n",
      "Fraction of infected nodes:  0.742 ; Initial infected nodes:  10 ; Number of iterations:  499\n"
     ]
    },
    {
     "name": "stderr",
     "output_type": "stream",
     "text": [
      " 12%|█▏        | 6/50 [00:42<05:27,  7.43s/it]"
     ]
    },
    {
     "name": "stdout",
     "output_type": "stream",
     "text": [
      "Fraction of infected nodes:  0.726 ; Initial infected nodes:  900 ; Number of iterations:  499\n",
      "Fraction of infected nodes:  0.784 ; Initial infected nodes:  10 ; Number of iterations:  499\n"
     ]
    },
    {
     "name": "stderr",
     "output_type": "stream",
     "text": [
      " 14%|█▍        | 7/50 [00:48<04:58,  6.94s/it]"
     ]
    },
    {
     "name": "stdout",
     "output_type": "stream",
     "text": [
      "Fraction of infected nodes:  0.789 ; Initial infected nodes:  900 ; Number of iterations:  499\n",
      "Fraction of infected nodes:  0.79 ; Initial infected nodes:  10 ; Number of iterations:  499\n"
     ]
    },
    {
     "name": "stderr",
     "output_type": "stream",
     "text": [
      " 16%|█▌        | 8/50 [00:53<04:24,  6.31s/it]"
     ]
    },
    {
     "name": "stdout",
     "output_type": "stream",
     "text": [
      "Fraction of infected nodes:  0.794 ; Initial infected nodes:  900 ; Number of iterations:  499\n",
      "Fraction of infected nodes:  0.857 ; Initial infected nodes:  10 ; Number of iterations:  499\n",
      "Fraction of infected nodes:  0.849 ; Initial infected nodes:  900 ; Number of iterations:  499\n"
     ]
    },
    {
     "name": "stderr",
     "output_type": "stream",
     "text": [
      " 18%|█▊        | 9/50 [00:58<03:55,  5.74s/it]"
     ]
    },
    {
     "name": "stdout",
     "output_type": "stream",
     "text": [
      "Fraction of infected nodes:  0.853 ; Initial infected nodes:  10 ; Number of iterations:  499\n",
      "Fraction of infected nodes:  0.845 ; Initial infected nodes:  900 ; Number of iterations:  499\n"
     ]
    },
    {
     "name": "stderr",
     "output_type": "stream",
     "text": [
      " 22%|██▏       | 11/50 [01:06<03:09,  4.85s/it]"
     ]
    },
    {
     "name": "stdout",
     "output_type": "stream",
     "text": [
      "Fraction of infected nodes:  0.855 ; Initial infected nodes:  10 ; Number of iterations:  499\n",
      "Fraction of infected nodes:  0.877 ; Initial infected nodes:  900 ; Number of iterations:  499\n",
      "Fraction of infected nodes:  0.88 ; Initial infected nodes:  10 ; Number of iterations:  499\n",
      "Fraction of infected nodes:  0.889 ; Initial infected nodes:  900 ; Number of iterations:  499\n"
     ]
    },
    {
     "name": "stderr",
     "output_type": "stream",
     "text": [
      " 24%|██▍       | 12/50 [01:09<02:50,  4.49s/it]"
     ]
    },
    {
     "name": "stdout",
     "output_type": "stream",
     "text": [
      "Fraction of infected nodes:  0.896 ; Initial infected nodes:  10 ; Number of iterations:  499\n",
      "Fraction of infected nodes:  0.875 ; Initial infected nodes:  900 ; Number of iterations:  499\n"
     ]
    },
    {
     "name": "stderr",
     "output_type": "stream",
     "text": [
      " 28%|██▊       | 14/50 [01:16<02:19,  3.87s/it]"
     ]
    },
    {
     "name": "stdout",
     "output_type": "stream",
     "text": [
      "Fraction of infected nodes:  0.885 ; Initial infected nodes:  10 ; Number of iterations:  499\n",
      "Fraction of infected nodes:  0.886 ; Initial infected nodes:  900 ; Number of iterations:  499\n",
      "Fraction of infected nodes:  0.898 ; Initial infected nodes:  10 ; Number of iterations:  499\n",
      "Fraction of infected nodes:  0.904 ; Initial infected nodes:  900 ; Number of iterations:  499\n"
     ]
    },
    {
     "name": "stderr",
     "output_type": "stream",
     "text": [
      " 30%|███       | 15/50 [01:19<02:06,  3.63s/it]"
     ]
    },
    {
     "name": "stdout",
     "output_type": "stream",
     "text": [
      "Fraction of infected nodes:  0.899 ; Initial infected nodes:  10 ; Number of iterations:  499\n",
      "Fraction of infected nodes:  0.901 ; Initial infected nodes:  900 ; Number of iterations:  499\n"
     ]
    },
    {
     "name": "stderr",
     "output_type": "stream",
     "text": [
      " 34%|███▍      | 17/50 [01:25<01:47,  3.25s/it]"
     ]
    },
    {
     "name": "stdout",
     "output_type": "stream",
     "text": [
      "Fraction of infected nodes:  0.91 ; Initial infected nodes:  10 ; Number of iterations:  499\n",
      "Fraction of infected nodes:  0.907 ; Initial infected nodes:  900 ; Number of iterations:  499\n",
      "Fraction of infected nodes:  0.917 ; Initial infected nodes:  10 ; Number of iterations:  499\n"
     ]
    },
    {
     "name": "stderr",
     "output_type": "stream",
     "text": [
      " 36%|███▌      | 18/50 [01:28<01:39,  3.11s/it]"
     ]
    },
    {
     "name": "stdout",
     "output_type": "stream",
     "text": [
      "Fraction of infected nodes:  0.917 ; Initial infected nodes:  900 ; Number of iterations:  499\n"
     ]
    },
    {
     "name": "stderr",
     "output_type": "stream",
     "text": [
      " 38%|███▊      | 19/50 [01:30<01:31,  2.96s/it]"
     ]
    },
    {
     "name": "stdout",
     "output_type": "stream",
     "text": [
      "Fraction of infected nodes:  0.913 ; Initial infected nodes:  10 ; Number of iterations:  499\n",
      "Fraction of infected nodes:  0.928 ; Initial infected nodes:  900 ; Number of iterations:  499\n"
     ]
    },
    {
     "name": "stderr",
     "output_type": "stream",
     "text": [
      " 40%|████      | 20/50 [01:33<01:25,  2.84s/it]"
     ]
    },
    {
     "name": "stdout",
     "output_type": "stream",
     "text": [
      "Fraction of infected nodes:  0.931 ; Initial infected nodes:  10 ; Number of iterations:  499\n",
      "Fraction of infected nodes:  0.926 ; Initial infected nodes:  900 ; Number of iterations:  499\n"
     ]
    },
    {
     "name": "stderr",
     "output_type": "stream",
     "text": [
      " 42%|████▏     | 21/50 [01:35<01:19,  2.74s/it]"
     ]
    },
    {
     "name": "stdout",
     "output_type": "stream",
     "text": [
      "Fraction of infected nodes:  0.937 ; Initial infected nodes:  10 ; Number of iterations:  499\n",
      "Fraction of infected nodes:  0.934 ; Initial infected nodes:  900 ; Number of iterations:  499\n"
     ]
    },
    {
     "name": "stderr",
     "output_type": "stream",
     "text": [
      " 44%|████▍     | 22/50 [01:38<01:14,  2.66s/it]"
     ]
    },
    {
     "name": "stdout",
     "output_type": "stream",
     "text": [
      "Fraction of infected nodes:  0.941 ; Initial infected nodes:  10 ; Number of iterations:  499\n",
      "Fraction of infected nodes:  0.93 ; Initial infected nodes:  900 ; Number of iterations:  499\n"
     ]
    },
    {
     "name": "stderr",
     "output_type": "stream",
     "text": [
      " 46%|████▌     | 23/50 [01:40<01:09,  2.59s/it]"
     ]
    },
    {
     "name": "stdout",
     "output_type": "stream",
     "text": [
      "Fraction of infected nodes:  0.939 ; Initial infected nodes:  10 ; Number of iterations:  499\n",
      "Fraction of infected nodes:  0.934 ; Initial infected nodes:  900 ; Number of iterations:  499\n"
     ]
    },
    {
     "name": "stderr",
     "output_type": "stream",
     "text": [
      " 48%|████▊     | 24/50 [01:43<01:05,  2.53s/it]"
     ]
    },
    {
     "name": "stdout",
     "output_type": "stream",
     "text": [
      "Fraction of infected nodes:  0.92 ; Initial infected nodes:  10 ; Number of iterations:  499\n",
      "Fraction of infected nodes:  0.937 ; Initial infected nodes:  900 ; Number of iterations:  499\n",
      "Fraction of infected nodes:  0.931 ; Initial infected nodes:  10 ; Number of iterations:  499\n"
     ]
    },
    {
     "name": "stderr",
     "output_type": "stream",
     "text": [
      " 50%|█████     | 25/50 [01:46<01:06,  2.65s/it]"
     ]
    },
    {
     "name": "stdout",
     "output_type": "stream",
     "text": [
      "Fraction of infected nodes:  0.939 ; Initial infected nodes:  900 ; Number of iterations:  499\n",
      "Fraction of infected nodes:  0.936 ; Initial infected nodes:  10 ; Number of iterations:  499\n"
     ]
    },
    {
     "name": "stderr",
     "output_type": "stream",
     "text": [
      " 52%|█████▏    | 26/50 [01:48<01:00,  2.54s/it]"
     ]
    },
    {
     "name": "stdout",
     "output_type": "stream",
     "text": [
      "Fraction of infected nodes:  0.948 ; Initial infected nodes:  900 ; Number of iterations:  499\n"
     ]
    },
    {
     "name": "stderr",
     "output_type": "stream",
     "text": [
      " 54%|█████▍    | 27/50 [01:50<00:57,  2.49s/it]"
     ]
    },
    {
     "name": "stdout",
     "output_type": "stream",
     "text": [
      "Fraction of infected nodes:  0.936 ; Initial infected nodes:  10 ; Number of iterations:  499\n",
      "Fraction of infected nodes:  0.947 ; Initial infected nodes:  900 ; Number of iterations:  499\n",
      "Fraction of infected nodes:  0.952 ; Initial infected nodes:  10 ; Number of iterations:  499\n"
     ]
    },
    {
     "name": "stderr",
     "output_type": "stream",
     "text": [
      " 56%|█████▌    | 28/50 [01:53<00:53,  2.45s/it]"
     ]
    },
    {
     "name": "stdout",
     "output_type": "stream",
     "text": [
      "Fraction of infected nodes:  0.94 ; Initial infected nodes:  900 ; Number of iterations:  499\n",
      "Fraction of infected nodes:  0.933 ; Initial infected nodes:  10 ; Number of iterations:  499\n"
     ]
    },
    {
     "name": "stderr",
     "output_type": "stream",
     "text": [
      " 58%|█████▊    | 29/50 [01:55<00:51,  2.44s/it]"
     ]
    },
    {
     "name": "stdout",
     "output_type": "stream",
     "text": [
      "Fraction of infected nodes:  0.934 ; Initial infected nodes:  900 ; Number of iterations:  499\n",
      "Fraction of infected nodes:  0.944 ; Initial infected nodes:  10 ; Number of iterations:  499\n",
      "Fraction of infected nodes:  0.94 ; Initial infected nodes:  900 ; Number of iterations:  499\n"
     ]
    },
    {
     "name": "stderr",
     "output_type": "stream",
     "text": [
      " 60%|██████    | 30/50 [01:57<00:48,  2.43s/it]"
     ]
    },
    {
     "name": "stdout",
     "output_type": "stream",
     "text": [
      "Fraction of infected nodes:  0.958 ; Initial infected nodes:  10 ; Number of iterations:  499\n",
      "Fraction of infected nodes:  0.942 ; Initial infected nodes:  900 ; Number of iterations:  499\n"
     ]
    },
    {
     "name": "stderr",
     "output_type": "stream",
     "text": [
      " 62%|██████▏   | 31/50 [02:00<00:45,  2.39s/it]"
     ]
    },
    {
     "name": "stdout",
     "output_type": "stream",
     "text": [
      "Fraction of infected nodes:  0.951 ; Initial infected nodes:  10 ; Number of iterations:  499\n"
     ]
    },
    {
     "name": "stderr",
     "output_type": "stream",
     "text": [
      " 64%|██████▍   | 32/50 [02:02<00:43,  2.42s/it]"
     ]
    },
    {
     "name": "stdout",
     "output_type": "stream",
     "text": [
      "Fraction of infected nodes:  0.955 ; Initial infected nodes:  900 ; Number of iterations:  499\n"
     ]
    },
    {
     "name": "stderr",
     "output_type": "stream",
     "text": [
      " 66%|██████▌   | 33/50 [02:04<00:39,  2.31s/it]"
     ]
    },
    {
     "name": "stdout",
     "output_type": "stream",
     "text": [
      "Fraction of infected nodes:  0.955 ; Initial infected nodes:  10 ; Number of iterations:  499\n",
      "Fraction of infected nodes:  0.96 ; Initial infected nodes:  900 ; Number of iterations:  499\n",
      "Fraction of infected nodes:  0.959 ; Initial infected nodes:  10 ; Number of iterations:  499\n"
     ]
    },
    {
     "name": "stderr",
     "output_type": "stream",
     "text": [
      " 68%|██████▊   | 34/50 [02:06<00:35,  2.21s/it]"
     ]
    },
    {
     "name": "stdout",
     "output_type": "stream",
     "text": [
      "Fraction of infected nodes:  0.931 ; Initial infected nodes:  900 ; Number of iterations:  499\n",
      "Fraction of infected nodes:  0.959 ; Initial infected nodes:  10 ; Number of iterations:  499\n"
     ]
    },
    {
     "name": "stderr",
     "output_type": "stream",
     "text": [
      " 70%|███████   | 35/50 [02:08<00:32,  2.14s/it]"
     ]
    },
    {
     "name": "stdout",
     "output_type": "stream",
     "text": [
      "Fraction of infected nodes:  0.955 ; Initial infected nodes:  900 ; Number of iterations:  499\n"
     ]
    },
    {
     "name": "stderr",
     "output_type": "stream",
     "text": [
      " 72%|███████▏  | 36/50 [02:10<00:29,  2.10s/it]"
     ]
    },
    {
     "name": "stdout",
     "output_type": "stream",
     "text": [
      "Fraction of infected nodes:  0.958 ; Initial infected nodes:  10 ; Number of iterations:  499\n",
      "Fraction of infected nodes:  0.948 ; Initial infected nodes:  900 ; Number of iterations:  499\n",
      "Fraction of infected nodes:  0.96 ; Initial infected nodes:  10 ; Number of iterations:  499\n"
     ]
    },
    {
     "name": "stderr",
     "output_type": "stream",
     "text": [
      " 74%|███████▍  | 37/50 [02:12<00:26,  2.06s/it]"
     ]
    },
    {
     "name": "stdout",
     "output_type": "stream",
     "text": [
      "Fraction of infected nodes:  0.947 ; Initial infected nodes:  900 ; Number of iterations:  499\n",
      "Fraction of infected nodes:  0.948 ; Initial infected nodes:  10 ; Number of iterations:  499\n"
     ]
    },
    {
     "name": "stderr",
     "output_type": "stream",
     "text": [
      " 76%|███████▌  | 38/50 [02:14<00:24,  2.01s/it]"
     ]
    },
    {
     "name": "stdout",
     "output_type": "stream",
     "text": [
      "Fraction of infected nodes:  0.97 ; Initial infected nodes:  900 ; Number of iterations:  499\n",
      "Fraction of infected nodes:  0.948 ; Initial infected nodes:  10 ; Number of iterations:  499\n"
     ]
    },
    {
     "name": "stderr",
     "output_type": "stream",
     "text": [
      " 78%|███████▊  | 39/50 [02:16<00:21,  1.96s/it]"
     ]
    },
    {
     "name": "stdout",
     "output_type": "stream",
     "text": [
      "Fraction of infected nodes:  0.961 ; Initial infected nodes:  900 ; Number of iterations:  499\n"
     ]
    },
    {
     "name": "stderr",
     "output_type": "stream",
     "text": [
      " 80%|████████  | 40/50 [02:18<00:19,  1.92s/it]"
     ]
    },
    {
     "name": "stdout",
     "output_type": "stream",
     "text": [
      "Fraction of infected nodes:  0.969 ; Initial infected nodes:  10 ; Number of iterations:  499\n",
      "Fraction of infected nodes:  0.967 ; Initial infected nodes:  900 ; Number of iterations:  499\n",
      "Fraction of infected nodes:  0.944 ; Initial infected nodes:  10 ; Number of iterations:  499\n"
     ]
    },
    {
     "name": "stderr",
     "output_type": "stream",
     "text": [
      " 82%|████████▏ | 41/50 [02:20<00:17,  1.90s/it]"
     ]
    },
    {
     "name": "stdout",
     "output_type": "stream",
     "text": [
      "Fraction of infected nodes:  0.967 ; Initial infected nodes:  900 ; Number of iterations:  499\n",
      "Fraction of infected nodes:  0.965 ; Initial infected nodes:  10 ; Number of iterations:  499\n"
     ]
    },
    {
     "name": "stderr",
     "output_type": "stream",
     "text": [
      " 84%|████████▍ | 42/50 [02:21<00:15,  1.89s/it]"
     ]
    },
    {
     "name": "stdout",
     "output_type": "stream",
     "text": [
      "Fraction of infected nodes:  0.96 ; Initial infected nodes:  900 ; Number of iterations:  499\n"
     ]
    },
    {
     "name": "stderr",
     "output_type": "stream",
     "text": [
      " 86%|████████▌ | 43/50 [02:23<00:13,  1.87s/it]"
     ]
    },
    {
     "name": "stdout",
     "output_type": "stream",
     "text": [
      "Fraction of infected nodes:  0.962 ; Initial infected nodes:  10 ; Number of iterations:  499\n",
      "Fraction of infected nodes:  0.958 ; Initial infected nodes:  900 ; Number of iterations:  499\n",
      "Fraction of infected nodes:  0.957 ; Initial infected nodes:  10 ; Number of iterations:  499\n"
     ]
    },
    {
     "name": "stderr",
     "output_type": "stream",
     "text": [
      " 88%|████████▊ | 44/50 [02:25<00:11,  1.85s/it]"
     ]
    },
    {
     "name": "stdout",
     "output_type": "stream",
     "text": [
      "Fraction of infected nodes:  0.959 ; Initial infected nodes:  900 ; Number of iterations:  499\n",
      "Fraction of infected nodes:  0.961 ; Initial infected nodes:  10 ; Number of iterations:  499\n"
     ]
    },
    {
     "name": "stderr",
     "output_type": "stream",
     "text": [
      " 90%|█████████ | 45/50 [02:27<00:09,  1.82s/it]"
     ]
    },
    {
     "name": "stdout",
     "output_type": "stream",
     "text": [
      "Fraction of infected nodes:  0.957 ; Initial infected nodes:  900 ; Number of iterations:  499\n",
      "Fraction of infected nodes:  0.965 ; Initial infected nodes:  10 ; Number of iterations:  499\n",
      "Fraction of infected nodes:  0.962 ; Initial infected nodes:  900 ; Number of iterations:  499\n"
     ]
    },
    {
     "name": "stderr",
     "output_type": "stream",
     "text": [
      " 92%|█████████▏| 46/50 [02:29<00:07,  1.93s/it]"
     ]
    },
    {
     "name": "stdout",
     "output_type": "stream",
     "text": [
      "Fraction of infected nodes:  0.969 ; Initial infected nodes:  10 ; Number of iterations:  499\n",
      "Fraction of infected nodes:  0.956 ; Initial infected nodes:  900 ; Number of iterations:  499\n"
     ]
    },
    {
     "name": "stderr",
     "output_type": "stream",
     "text": [
      " 94%|█████████▍| 47/50 [02:31<00:05,  1.88s/it]"
     ]
    },
    {
     "name": "stdout",
     "output_type": "stream",
     "text": [
      "Fraction of infected nodes:  0.962 ; Initial infected nodes:  10 ; Number of iterations:  499\n",
      "Fraction of infected nodes:  0.965 ; Initial infected nodes:  900 ; Number of iterations:  499\n"
     ]
    },
    {
     "name": "stderr",
     "output_type": "stream",
     "text": [
      " 98%|█████████▊| 49/50 [02:34<00:01,  1.79s/it]"
     ]
    },
    {
     "name": "stdout",
     "output_type": "stream",
     "text": [
      "Fraction of infected nodes:  0.97 ; Initial infected nodes:  10 ; Number of iterations:  499\n",
      "Fraction of infected nodes:  0.964 ; Initial infected nodes:  900 ; Number of iterations:  499\n",
      "Fraction of infected nodes:  0.971 ; Initial infected nodes:  10 ; Number of iterations:  499\n"
     ]
    },
    {
     "name": "stderr",
     "output_type": "stream",
     "text": [
      "100%|██████████| 50/50 [02:36<00:00,  3.13s/it]"
     ]
    },
    {
     "name": "stdout",
     "output_type": "stream",
     "text": [
      "Fraction of infected nodes:  0.972 ; Initial infected nodes:  900 ; Number of iterations:  499\n"
     ]
    },
    {
     "name": "stderr",
     "output_type": "stream",
     "text": [
      "\n"
     ]
    },
    {
     "data": {
      "image/png": "[encoded data removed]",
      "text/plain": [
       "<Figure size 1000x700 with 1 Axes>"
      ]
     },
     "metadata": {},
     "output_type": "display_data"
    },
    {
     "name": "stderr",
     "output_type": "stream",
     "text": [
      "  0%|          | 0/50 [00:00<?, ?it/s]"
     ]
    },
    {
     "name": "stdout",
     "output_type": "stream",
     "text": [
      "Fraction of infected nodes:  0.003 ; Initial infected nodes:  10 ; Number of iterations:  51\n"
     ]
    },
    {
     "name": "stderr",
     "output_type": "stream",
     "text": [
      "  2%|▏         | 1/50 [00:07<05:43,  7.00s/it]"
     ]
    },
    {
     "name": "stdout",
     "output_type": "stream",
     "text": [
      "Fraction of infected nodes:  0.008 ; Initial infected nodes:  900 ; Number of iterations:  239\n",
      "Fraction of infected nodes:  0.002 ; Initial infected nodes:  10 ; Number of iterations:  51\n"
     ]
    },
    {
     "name": "stderr",
     "output_type": "stream",
     "text": [
      "  4%|▍         | 2/50 [00:14<05:42,  7.13s/it]"
     ]
    },
    {
     "name": "stdout",
     "output_type": "stream",
     "text": [
      "Fraction of infected nodes:  0.007 ; Initial infected nodes:  900 ; Number of iterations:  243\n",
      "Fraction of infected nodes:  0.003 ; Initial infected nodes:  10 ; Number of iterations:  51\n"
     ]
    },
    {
     "name": "stderr",
     "output_type": "stream",
     "text": [
      "  6%|▌         | 3/50 [00:21<05:47,  7.39s/it]"
     ]
    },
    {
     "name": "stdout",
     "output_type": "stream",
     "text": [
      "Fraction of infected nodes:  0.005 ; Initial infected nodes:  900 ; Number of iterations:  243\n",
      "Fraction of infected nodes:  0.005 ; Initial infected nodes:  10 ; Number of iterations:  51\n"
     ]
    },
    {
     "name": "stderr",
     "output_type": "stream",
     "text": [
      "  8%|▊         | 4/50 [00:29<05:43,  7.46s/it]"
     ]
    },
    {
     "name": "stdout",
     "output_type": "stream",
     "text": [
      "Fraction of infected nodes:  0.011 ; Initial infected nodes:  900 ; Number of iterations:  231\n",
      "Fraction of infected nodes:  0.005 ; Initial infected nodes:  10 ; Number of iterations:  51\n"
     ]
    },
    {
     "name": "stderr",
     "output_type": "stream",
     "text": [
      " 10%|█         | 5/50 [00:38<06:01,  8.04s/it]"
     ]
    },
    {
     "name": "stdout",
     "output_type": "stream",
     "text": [
      "Fraction of infected nodes:  0.006 ; Initial infected nodes:  900 ; Number of iterations:  283\n",
      "Fraction of infected nodes:  0.009 ; Initial infected nodes:  10 ; Number of iterations:  51\n"
     ]
    },
    {
     "name": "stderr",
     "output_type": "stream",
     "text": [
      " 12%|█▏        | 6/50 [00:48<06:29,  8.85s/it]"
     ]
    },
    {
     "name": "stdout",
     "output_type": "stream",
     "text": [
      "Fraction of infected nodes:  0.004 ; Initial infected nodes:  900 ; Number of iterations:  284\n",
      "Fraction of infected nodes:  0.007 ; Initial infected nodes:  10 ; Number of iterations:  51\n"
     ]
    },
    {
     "name": "stderr",
     "output_type": "stream",
     "text": [
      " 14%|█▍        | 7/50 [01:02<07:23, 10.30s/it]"
     ]
    },
    {
     "name": "stdout",
     "output_type": "stream",
     "text": [
      "Fraction of infected nodes:  0.006 ; Initial infected nodes:  900 ; Number of iterations:  273\n",
      "Fraction of infected nodes:  0.008 ; Initial infected nodes:  10 ; Number of iterations:  51\n"
     ]
    },
    {
     "name": "stderr",
     "output_type": "stream",
     "text": [
      " 16%|█▌        | 8/50 [01:26<10:21, 14.80s/it]"
     ]
    },
    {
     "name": "stdout",
     "output_type": "stream",
     "text": [
      "Fraction of infected nodes:  0.007 ; Initial infected nodes:  900 ; Number of iterations:  312\n",
      "Fraction of infected nodes:  0.005 ; Initial infected nodes:  10 ; Number of iterations:  51\n"
     ]
    },
    {
     "name": "stderr",
     "output_type": "stream",
     "text": [
      " 18%|█▊        | 9/50 [02:02<14:39, 21.46s/it]"
     ]
    },
    {
     "name": "stdout",
     "output_type": "stream",
     "text": [
      "Fraction of infected nodes:  0.002 ; Initial infected nodes:  900 ; Number of iterations:  376\n",
      "Fraction of infected nodes:  0.003 ; Initial infected nodes:  10 ; Number of iterations:  51\n"
     ]
    },
    {
     "name": "stderr",
     "output_type": "stream",
     "text": [
      " 20%|██        | 10/50 [04:42<42:51, 64.28s/it]"
     ]
    },
    {
     "name": "stdout",
     "output_type": "stream",
     "text": [
      "Fraction of infected nodes:  0.595 ; Initial infected nodes:  900 ; Number of iterations:  499\n",
      "Fraction of infected nodes:  0.012 ; Initial infected nodes:  10 ; Number of iterations:  82\n"
     ]
    },
    {
     "name": "stderr",
     "output_type": "stream",
     "text": [
      " 22%|██▏       | 11/50 [07:04<57:07, 87.89s/it]"
     ]
    },
    {
     "name": "stdout",
     "output_type": "stream",
     "text": [
      "Fraction of infected nodes:  0.731 ; Initial infected nodes:  900 ; Number of iterations:  499\n",
      "Fraction of infected nodes:  0.003 ; Initial infected nodes:  10 ; Number of iterations:  90\n"
     ]
    },
    {
     "name": "stderr",
     "output_type": "stream",
     "text": [
      " 24%|██▍       | 12/50 [09:10<1:03:01, 99.51s/it]"
     ]
    },
    {
     "name": "stdout",
     "output_type": "stream",
     "text": [
      "Fraction of infected nodes:  0.711 ; Initial infected nodes:  900 ; Number of iterations:  499\n",
      "Fraction of infected nodes:  0.006 ; Initial infected nodes:  10 ; Number of iterations:  51\n"
     ]
    },
    {
     "name": "stderr",
     "output_type": "stream",
     "text": [
      " 26%|██▌       | 13/50 [11:05<1:04:15, 104.19s/it]"
     ]
    },
    {
     "name": "stdout",
     "output_type": "stream",
     "text": [
      "Fraction of infected nodes:  0.75 ; Initial infected nodes:  900 ; Number of iterations:  499\n",
      "Fraction of infected nodes:  0.007 ; Initial infected nodes:  10 ; Number of iterations:  51\n"
     ]
    },
    {
     "name": "stderr",
     "output_type": "stream",
     "text": [
      " 28%|██▊       | 14/50 [12:47<1:02:05, 103.47s/it]"
     ]
    },
    {
     "name": "stdout",
     "output_type": "stream",
     "text": [
      "Fraction of infected nodes:  0.754 ; Initial infected nodes:  900 ; Number of iterations:  499\n",
      "Fraction of infected nodes:  0.012 ; Initial infected nodes:  10 ; Number of iterations:  84\n"
     ]
    },
    {
     "name": "stderr",
     "output_type": "stream",
     "text": [
      " 30%|███       | 15/50 [14:26<59:35, 102.17s/it]  "
     ]
    },
    {
     "name": "stdout",
     "output_type": "stream",
     "text": [
      "Fraction of infected nodes:  0.787 ; Initial infected nodes:  900 ; Number of iterations:  499\n",
      "Fraction of infected nodes:  0.002 ; Initial infected nodes:  10 ; Number of iterations:  87\n"
     ]
    },
    {
     "name": "stderr",
     "output_type": "stream",
     "text": [
      " 32%|███▏      | 16/50 [15:52<55:06, 97.26s/it] "
     ]
    },
    {
     "name": "stdout",
     "output_type": "stream",
     "text": [
      "Fraction of infected nodes:  0.801 ; Initial infected nodes:  900 ; Number of iterations:  499\n",
      "Fraction of infected nodes:  0.008 ; Initial infected nodes:  10 ; Number of iterations:  51\n"
     ]
    },
    {
     "name": "stderr",
     "output_type": "stream",
     "text": [
      " 34%|███▍      | 17/50 [17:10<50:16, 91.42s/it]"
     ]
    },
    {
     "name": "stdout",
     "output_type": "stream",
     "text": [
      "Fraction of infected nodes:  0.851 ; Initial infected nodes:  900 ; Number of iterations:  499\n",
      "Fraction of infected nodes:  0.874 ; Initial infected nodes:  10 ; Number of iterations:  499\n"
     ]
    },
    {
     "name": "stderr",
     "output_type": "stream",
     "text": [
      " 36%|███▌      | 18/50 [19:44<58:52, 110.38s/it]"
     ]
    },
    {
     "name": "stdout",
     "output_type": "stream",
     "text": [
      "Fraction of infected nodes:  0.851 ; Initial infected nodes:  900 ; Number of iterations:  499\n",
      "Fraction of infected nodes:  0.855 ; Initial infected nodes:  10 ; Number of iterations:  499\n"
     ]
    },
    {
     "name": "stderr",
     "output_type": "stream",
     "text": [
      " 38%|███▊      | 19/50 [22:03<1:01:30, 119.04s/it]"
     ]
    },
    {
     "name": "stdout",
     "output_type": "stream",
     "text": [
      "Fraction of infected nodes:  0.853 ; Initial infected nodes:  900 ; Number of iterations:  499\n",
      "Fraction of infected nodes:  0.868 ; Initial infected nodes:  10 ; Number of iterations:  499\n"
     ]
    },
    {
     "name": "stderr",
     "output_type": "stream",
     "text": [
      " 40%|████      | 20/50 [24:20<1:02:08, 124.30s/it]"
     ]
    },
    {
     "name": "stdout",
     "output_type": "stream",
     "text": [
      "Fraction of infected nodes:  0.861 ; Initial infected nodes:  900 ; Number of iterations:  499\n",
      "Fraction of infected nodes:  0.874 ; Initial infected nodes:  10 ; Number of iterations:  499\n"
     ]
    },
    {
     "name": "stderr",
     "output_type": "stream",
     "text": [
      " 42%|████▏     | 21/50 [26:24<1:00:01, 124.17s/it]"
     ]
    },
    {
     "name": "stdout",
     "output_type": "stream",
     "text": [
      "Fraction of infected nodes:  0.829 ; Initial infected nodes:  900 ; Number of iterations:  499\n",
      "Fraction of infected nodes:  0.882 ; Initial infected nodes:  10 ; Number of iterations:  499\n"
     ]
    },
    {
     "name": "stderr",
     "output_type": "stream",
     "text": [
      " 44%|████▍     | 22/50 [28:27<57:53, 124.04s/it]  "
     ]
    },
    {
     "name": "stdout",
     "output_type": "stream",
     "text": [
      "Fraction of infected nodes:  0.866 ; Initial infected nodes:  900 ; Number of iterations:  499\n",
      "Fraction of infected nodes:  0.864 ; Initial infected nodes:  10 ; Number of iterations:  499\n"
     ]
    },
    {
     "name": "stderr",
     "output_type": "stream",
     "text": [
      " 46%|████▌     | 23/50 [30:24<54:48, 121.79s/it]"
     ]
    },
    {
     "name": "stdout",
     "output_type": "stream",
     "text": [
      "Fraction of infected nodes:  0.879 ; Initial infected nodes:  900 ; Number of iterations:  499\n",
      "Fraction of infected nodes:  0.88 ; Initial infected nodes:  10 ; Number of iterations:  499\n"
     ]
    },
    {
     "name": "stderr",
     "output_type": "stream",
     "text": [
      " 48%|████▊     | 24/50 [32:15<51:23, 118.61s/it]"
     ]
    },
    {
     "name": "stdout",
     "output_type": "stream",
     "text": [
      "Fraction of infected nodes:  0.874 ; Initial infected nodes:  900 ; Number of iterations:  499\n",
      "Fraction of infected nodes:  0.891 ; Initial infected nodes:  10 ; Number of iterations:  499\n"
     ]
    },
    {
     "name": "stderr",
     "output_type": "stream",
     "text": [
      " 50%|█████     | 25/50 [34:00<47:41, 114.46s/it]"
     ]
    },
    {
     "name": "stdout",
     "output_type": "stream",
     "text": [
      "Fraction of infected nodes:  0.9 ; Initial infected nodes:  900 ; Number of iterations:  499\n",
      "Fraction of infected nodes:  0.906 ; Initial infected nodes:  10 ; Number of iterations:  499\n"
     ]
    },
    {
     "name": "stderr",
     "output_type": "stream",
     "text": [
      " 52%|█████▏    | 26/50 [35:41<44:11, 110.48s/it]"
     ]
    },
    {
     "name": "stdout",
     "output_type": "stream",
     "text": [
      "Fraction of infected nodes:  0.887 ; Initial infected nodes:  900 ; Number of iterations:  499\n",
      "Fraction of infected nodes:  0.889 ; Initial infected nodes:  10 ; Number of iterations:  499\n"
     ]
    },
    {
     "name": "stderr",
     "output_type": "stream",
     "text": [
      " 54%|█████▍    | 27/50 [37:20<41:02, 107.08s/it]"
     ]
    },
    {
     "name": "stdout",
     "output_type": "stream",
     "text": [
      "Fraction of infected nodes:  0.895 ; Initial infected nodes:  900 ; Number of iterations:  499\n",
      "Fraction of infected nodes:  0.914 ; Initial infected nodes:  10 ; Number of iterations:  499\n"
     ]
    },
    {
     "name": "stderr",
     "output_type": "stream",
     "text": [
      " 56%|█████▌    | 28/50 [39:00<38:26, 104.86s/it]"
     ]
    },
    {
     "name": "stdout",
     "output_type": "stream",
     "text": [
      "Fraction of infected nodes:  0.879 ; Initial infected nodes:  900 ; Number of iterations:  499\n",
      "Fraction of infected nodes:  0.893 ; Initial infected nodes:  10 ; Number of iterations:  499\n"
     ]
    },
    {
     "name": "stderr",
     "output_type": "stream",
     "text": [
      " 58%|█████▊    | 29/50 [40:29<35:02, 100.13s/it]"
     ]
    },
    {
     "name": "stdout",
     "output_type": "stream",
     "text": [
      "Fraction of infected nodes:  0.897 ; Initial infected nodes:  900 ; Number of iterations:  499\n",
      "Fraction of infected nodes:  0.906 ; Initial infected nodes:  10 ; Number of iterations:  499\n"
     ]
    },
    {
     "name": "stderr",
     "output_type": "stream",
     "text": [
      " 60%|██████    | 30/50 [41:57<32:09, 96.47s/it] "
     ]
    },
    {
     "name": "stdout",
     "output_type": "stream",
     "text": [
      "Fraction of infected nodes:  0.907 ; Initial infected nodes:  900 ; Number of iterations:  499\n",
      "Fraction of infected nodes:  0.919 ; Initial infected nodes:  10 ; Number of iterations:  499\n"
     ]
    },
    {
     "name": "stderr",
     "output_type": "stream",
     "text": [
      " 62%|██████▏   | 31/50 [43:23<29:32, 93.27s/it]"
     ]
    },
    {
     "name": "stdout",
     "output_type": "stream",
     "text": [
      "Fraction of infected nodes:  0.927 ; Initial infected nodes:  900 ; Number of iterations:  499\n",
      "Fraction of infected nodes:  0.904 ; Initial infected nodes:  10 ; Number of iterations:  499\n"
     ]
    },
    {
     "name": "stderr",
     "output_type": "stream",
     "text": [
      " 64%|██████▍   | 32/50 [44:49<27:19, 91.10s/it]"
     ]
    },
    {
     "name": "stdout",
     "output_type": "stream",
     "text": [
      "Fraction of infected nodes:  0.907 ; Initial infected nodes:  900 ; Number of iterations:  499\n",
      "Fraction of infected nodes:  0.913 ; Initial infected nodes:  10 ; Number of iterations:  499\n"
     ]
    },
    {
     "name": "stderr",
     "output_type": "stream",
     "text": [
      " 66%|██████▌   | 33/50 [46:10<24:57, 88.09s/it]"
     ]
    },
    {
     "name": "stdout",
     "output_type": "stream",
     "text": [
      "Fraction of infected nodes:  0.915 ; Initial infected nodes:  900 ; Number of iterations:  499\n",
      "Fraction of infected nodes:  0.915 ; Initial infected nodes:  10 ; Number of iterations:  499\n"
     ]
    },
    {
     "name": "stderr",
     "output_type": "stream",
     "text": [
      " 68%|██████▊   | 34/50 [47:29<22:45, 85.33s/it]"
     ]
    },
    {
     "name": "stdout",
     "output_type": "stream",
     "text": [
      "Fraction of infected nodes:  0.924 ; Initial infected nodes:  900 ; Number of iterations:  499\n",
      "Fraction of infected nodes:  0.91 ; Initial infected nodes:  10 ; Number of iterations:  499\n"
     ]
    },
    {
     "name": "stderr",
     "output_type": "stream",
     "text": [
      " 70%|███████   | 35/50 [48:43<20:30, 82.00s/it]"
     ]
    },
    {
     "name": "stdout",
     "output_type": "stream",
     "text": [
      "Fraction of infected nodes:  0.925 ; Initial infected nodes:  900 ; Number of iterations:  499\n",
      "Fraction of infected nodes:  0.935 ; Initial infected nodes:  10 ; Number of iterations:  499\n"
     ]
    },
    {
     "name": "stderr",
     "output_type": "stream",
     "text": [
      " 72%|███████▏  | 36/50 [49:57<18:34, 79.58s/it]"
     ]
    },
    {
     "name": "stdout",
     "output_type": "stream",
     "text": [
      "Fraction of infected nodes:  0.922 ; Initial infected nodes:  900 ; Number of iterations:  499\n",
      "Fraction of infected nodes:  0.937 ; Initial infected nodes:  10 ; Number of iterations:  499\n"
     ]
    },
    {
     "name": "stderr",
     "output_type": "stream",
     "text": [
      " 74%|███████▍  | 37/50 [51:08<16:39, 76.88s/it]"
     ]
    },
    {
     "name": "stdout",
     "output_type": "stream",
     "text": [
      "Fraction of infected nodes:  0.917 ; Initial infected nodes:  900 ; Number of iterations:  499\n",
      "Fraction of infected nodes:  0.919 ; Initial infected nodes:  10 ; Number of iterations:  499\n"
     ]
    },
    {
     "name": "stderr",
     "output_type": "stream",
     "text": [
      " 76%|███████▌  | 38/50 [52:17<14:56, 74.71s/it]"
     ]
    },
    {
     "name": "stdout",
     "output_type": "stream",
     "text": [
      "Fraction of infected nodes:  0.916 ; Initial infected nodes:  900 ; Number of iterations:  499\n",
      "Fraction of infected nodes:  0.921 ; Initial infected nodes:  10 ; Number of iterations:  499\n"
     ]
    },
    {
     "name": "stderr",
     "output_type": "stream",
     "text": [
      " 78%|███████▊  | 39/50 [53:29<13:31, 73.76s/it]"
     ]
    },
    {
     "name": "stdout",
     "output_type": "stream",
     "text": [
      "Fraction of infected nodes:  0.938 ; Initial infected nodes:  900 ; Number of iterations:  499\n",
      "Fraction of infected nodes:  0.922 ; Initial infected nodes:  10 ; Number of iterations:  499\n"
     ]
    },
    {
     "name": "stderr",
     "output_type": "stream",
     "text": [
      " 80%|████████  | 40/50 [54:37<12:02, 72.21s/it]"
     ]
    },
    {
     "name": "stdout",
     "output_type": "stream",
     "text": [
      "Fraction of infected nodes:  0.935 ; Initial infected nodes:  900 ; Number of iterations:  499\n",
      "Fraction of infected nodes:  0.925 ; Initial infected nodes:  10 ; Number of iterations:  499\n"
     ]
    },
    {
     "name": "stderr",
     "output_type": "stream",
     "text": [
      " 82%|████████▏ | 41/50 [55:43<10:33, 70.33s/it]"
     ]
    },
    {
     "name": "stdout",
     "output_type": "stream",
     "text": [
      "Fraction of infected nodes:  0.922 ; Initial infected nodes:  900 ; Number of iterations:  499\n",
      "Fraction of infected nodes:  0.939 ; Initial infected nodes:  10 ; Number of iterations:  499\n"
     ]
    },
    {
     "name": "stderr",
     "output_type": "stream",
     "text": [
      " 84%|████████▍ | 42/50 [56:46<09:04, 68.09s/it]"
     ]
    },
    {
     "name": "stdout",
     "output_type": "stream",
     "text": [
      "Fraction of infected nodes:  0.941 ; Initial infected nodes:  900 ; Number of iterations:  499\n",
      "Fraction of infected nodes:  0.93 ; Initial infected nodes:  10 ; Number of iterations:  499\n"
     ]
    },
    {
     "name": "stderr",
     "output_type": "stream",
     "text": [
      " 86%|████████▌ | 43/50 [57:49<07:45, 66.53s/it]"
     ]
    },
    {
     "name": "stdout",
     "output_type": "stream",
     "text": [
      "Fraction of infected nodes:  0.944 ; Initial infected nodes:  900 ; Number of iterations:  499\n",
      "Fraction of infected nodes:  0.919 ; Initial infected nodes:  10 ; Number of iterations:  499\n"
     ]
    },
    {
     "name": "stderr",
     "output_type": "stream",
     "text": [
      " 88%|████████▊ | 44/50 [58:49<06:27, 64.66s/it]"
     ]
    },
    {
     "name": "stdout",
     "output_type": "stream",
     "text": [
      "Fraction of infected nodes:  0.928 ; Initial infected nodes:  900 ; Number of iterations:  499\n",
      "Fraction of infected nodes:  0.946 ; Initial infected nodes:  10 ; Number of iterations:  499\n"
     ]
    },
    {
     "name": "stderr",
     "output_type": "stream",
     "text": [
      " 90%|█████████ | 45/50 [59:49<05:15, 63.03s/it]"
     ]
    },
    {
     "name": "stdout",
     "output_type": "stream",
     "text": [
      "Fraction of infected nodes:  0.935 ; Initial infected nodes:  900 ; Number of iterations:  499\n",
      "Fraction of infected nodes:  0.944 ; Initial infected nodes:  10 ; Number of iterations:  499\n"
     ]
    },
    {
     "name": "stderr",
     "output_type": "stream",
     "text": [
      " 92%|█████████▏| 46/50 [1:00:46<04:05, 61.48s/it]"
     ]
    },
    {
     "name": "stdout",
     "output_type": "stream",
     "text": [
      "Fraction of infected nodes:  0.941 ; Initial infected nodes:  900 ; Number of iterations:  499\n",
      "Fraction of infected nodes:  0.941 ; Initial infected nodes:  10 ; Number of iterations:  499\n"
     ]
    },
    {
     "name": "stderr",
     "output_type": "stream",
     "text": [
      " 94%|█████████▍| 47/50 [1:01:43<03:00, 60.06s/it]"
     ]
    },
    {
     "name": "stdout",
     "output_type": "stream",
     "text": [
      "Fraction of infected nodes:  0.938 ; Initial infected nodes:  900 ; Number of iterations:  499\n",
      "Fraction of infected nodes:  0.932 ; Initial infected nodes:  10 ; Number of iterations:  499\n"
     ]
    },
    {
     "name": "stderr",
     "output_type": "stream",
     "text": [
      " 96%|█████████▌| 48/50 [1:02:38<01:56, 58.39s/it]"
     ]
    },
    {
     "name": "stdout",
     "output_type": "stream",
     "text": [
      "Fraction of infected nodes:  0.935 ; Initial infected nodes:  900 ; Number of iterations:  499\n",
      "Fraction of infected nodes:  0.932 ; Initial infected nodes:  10 ; Number of iterations:  499\n"
     ]
    },
    {
     "name": "stderr",
     "output_type": "stream",
     "text": [
      " 98%|█████████▊| 49/50 [1:03:31<00:56, 56.82s/it]"
     ]
    },
    {
     "name": "stdout",
     "output_type": "stream",
     "text": [
      "Fraction of infected nodes:  0.93 ; Initial infected nodes:  900 ; Number of iterations:  499\n",
      "Fraction of infected nodes:  0.942 ; Initial infected nodes:  10 ; Number of iterations:  499\n"
     ]
    },
    {
     "name": "stderr",
     "output_type": "stream",
     "text": [
      "100%|██████████| 50/50 [1:04:25<00:00, 77.30s/it]"
     ]
    },
    {
     "name": "stdout",
     "output_type": "stream",
     "text": [
      "Fraction of infected nodes:  0.952 ; Initial infected nodes:  900 ; Number of iterations:  499\n"
     ]
    },
    {
     "name": "stderr",
     "output_type": "stream",
     "text": [
      "\n"
     ]
    },
    {
     "data": {
      "image/png": "[encoded data removed]",
      "text/plain": [
       "<Figure size 1000x700 with 1 Axes>"
      ]
     },
     "metadata": {},
     "output_type": "display_data"
    },
    {
     "name": "stderr",
     "output_type": "stream",
     "text": [
      "  0%|          | 0/50 [00:00<?, ?it/s]"
     ]
    },
    {
     "name": "stdout",
     "output_type": "stream",
     "text": [
      "Fraction of infected nodes:  0.003 ; Initial infected nodes:  10 ; Number of iterations:  51\n"
     ]
    },
    {
     "name": "stderr",
     "output_type": "stream",
     "text": [
      "  2%|▏         | 1/50 [00:06<05:41,  6.97s/it]"
     ]
    },
    {
     "name": "stdout",
     "output_type": "stream",
     "text": [
      "Fraction of infected nodes:  0.01 ; Initial infected nodes:  900 ; Number of iterations:  238\n",
      "Fraction of infected nodes:  0.005 ; Initial infected nodes:  10 ; Number of iterations:  51\n"
     ]
    },
    {
     "name": "stderr",
     "output_type": "stream",
     "text": [
      "  4%|▍         | 2/50 [00:14<05:43,  7.16s/it]"
     ]
    },
    {
     "name": "stdout",
     "output_type": "stream",
     "text": [
      "Fraction of infected nodes:  0.006 ; Initial infected nodes:  900 ; Number of iterations:  256\n",
      "Fraction of infected nodes:  0.004 ; Initial infected nodes:  10 ; Number of iterations:  51\n"
     ]
    },
    {
     "name": "stderr",
     "output_type": "stream",
     "text": [
      "  6%|▌         | 3/50 [00:21<05:35,  7.14s/it]"
     ]
    },
    {
     "name": "stdout",
     "output_type": "stream",
     "text": [
      "Fraction of infected nodes:  0.004 ; Initial infected nodes:  900 ; Number of iterations:  238\n",
      "Fraction of infected nodes:  0.005 ; Initial infected nodes:  10 ; Number of iterations:  51\n"
     ]
    },
    {
     "name": "stderr",
     "output_type": "stream",
     "text": [
      "  8%|▊         | 4/50 [00:28<05:31,  7.20s/it]"
     ]
    },
    {
     "name": "stdout",
     "output_type": "stream",
     "text": [
      "Fraction of infected nodes:  0.008 ; Initial infected nodes:  900 ; Number of iterations:  245\n",
      "Fraction of infected nodes:  0.004 ; Initial infected nodes:  10 ; Number of iterations:  51\n"
     ]
    },
    {
     "name": "stderr",
     "output_type": "stream",
     "text": [
      " 10%|█         | 5/50 [00:35<05:24,  7.22s/it]"
     ]
    },
    {
     "name": "stdout",
     "output_type": "stream",
     "text": [
      "Fraction of infected nodes:  0.005 ; Initial infected nodes:  900 ; Number of iterations:  252\n",
      "Fraction of infected nodes:  0.002 ; Initial infected nodes:  10 ; Number of iterations:  51\n"
     ]
    },
    {
     "name": "stderr",
     "output_type": "stream",
     "text": [
      " 12%|█▏        | 6/50 [00:43<05:20,  7.30s/it]"
     ]
    },
    {
     "name": "stdout",
     "output_type": "stream",
     "text": [
      "Fraction of infected nodes:  0.006 ; Initial infected nodes:  900 ; Number of iterations:  262\n",
      "Fraction of infected nodes:  0.004 ; Initial infected nodes:  10 ; Number of iterations:  51\n"
     ]
    },
    {
     "name": "stderr",
     "output_type": "stream",
     "text": [
      " 14%|█▍        | 7/50 [00:51<05:20,  7.46s/it]"
     ]
    },
    {
     "name": "stdout",
     "output_type": "stream",
     "text": [
      "Fraction of infected nodes:  0.005 ; Initial infected nodes:  900 ; Number of iterations:  273\n",
      "Fraction of infected nodes:  0.005 ; Initial infected nodes:  10 ; Number of iterations:  51\n"
     ]
    },
    {
     "name": "stderr",
     "output_type": "stream",
     "text": [
      " 16%|█▌        | 8/50 [00:58<05:15,  7.51s/it]"
     ]
    },
    {
     "name": "stdout",
     "output_type": "stream",
     "text": [
      "Fraction of infected nodes:  0.003 ; Initial infected nodes:  900 ; Number of iterations:  259\n",
      "Fraction of infected nodes:  0.005 ; Initial infected nodes:  10 ; Number of iterations:  51\n"
     ]
    },
    {
     "name": "stderr",
     "output_type": "stream",
     "text": [
      " 18%|█▊        | 9/50 [01:06<05:08,  7.52s/it]"
     ]
    },
    {
     "name": "stdout",
     "output_type": "stream",
     "text": [
      "Fraction of infected nodes:  0.004 ; Initial infected nodes:  900 ; Number of iterations:  249\n",
      "Fraction of infected nodes:  0.003 ; Initial infected nodes:  10 ; Number of iterations:  51\n"
     ]
    },
    {
     "name": "stderr",
     "output_type": "stream",
     "text": [
      " 20%|██        | 10/50 [01:14<05:07,  7.69s/it]"
     ]
    },
    {
     "name": "stdout",
     "output_type": "stream",
     "text": [
      "Fraction of infected nodes:  0.004 ; Initial infected nodes:  900 ; Number of iterations:  273\n",
      "Fraction of infected nodes:  0.006 ; Initial infected nodes:  10 ; Number of iterations:  51\n"
     ]
    },
    {
     "name": "stderr",
     "output_type": "stream",
     "text": [
      " 22%|██▏       | 11/50 [01:22<05:02,  7.75s/it]"
     ]
    },
    {
     "name": "stdout",
     "output_type": "stream",
     "text": [
      "Fraction of infected nodes:  0.009 ; Initial infected nodes:  900 ; Number of iterations:  242\n",
      "Fraction of infected nodes:  0.005 ; Initial infected nodes:  10 ; Number of iterations:  51\n"
     ]
    },
    {
     "name": "stderr",
     "output_type": "stream",
     "text": [
      " 24%|██▍       | 12/50 [01:30<04:55,  7.77s/it]"
     ]
    },
    {
     "name": "stdout",
     "output_type": "stream",
     "text": [
      "Fraction of infected nodes:  0.007 ; Initial infected nodes:  900 ; Number of iterations:  244\n",
      "Fraction of infected nodes:  0.004 ; Initial infected nodes:  10 ; Number of iterations:  51\n"
     ]
    },
    {
     "name": "stderr",
     "output_type": "stream",
     "text": [
      " 26%|██▌       | 13/50 [01:38<04:51,  7.89s/it]"
     ]
    },
    {
     "name": "stdout",
     "output_type": "stream",
     "text": [
      "Fraction of infected nodes:  0.011 ; Initial infected nodes:  900 ; Number of iterations:  269\n",
      "Fraction of infected nodes:  0.003 ; Initial infected nodes:  10 ; Number of iterations:  51\n"
     ]
    },
    {
     "name": "stderr",
     "output_type": "stream",
     "text": [
      " 28%|██▊       | 14/50 [01:46<04:51,  8.11s/it]"
     ]
    },
    {
     "name": "stdout",
     "output_type": "stream",
     "text": [
      "Fraction of infected nodes:  0.001 ; Initial infected nodes:  900 ; Number of iterations:  276\n",
      "Fraction of infected nodes:  0.002 ; Initial infected nodes:  10 ; Number of iterations:  51\n"
     ]
    },
    {
     "name": "stderr",
     "output_type": "stream",
     "text": [
      " 30%|███       | 15/50 [01:55<04:45,  8.15s/it]"
     ]
    },
    {
     "name": "stdout",
     "output_type": "stream",
     "text": [
      "Fraction of infected nodes:  0.006 ; Initial infected nodes:  900 ; Number of iterations:  271\n",
      "Fraction of infected nodes:  0.004 ; Initial infected nodes:  10 ; Number of iterations:  51\n"
     ]
    },
    {
     "name": "stderr",
     "output_type": "stream",
     "text": [
      " 32%|███▏      | 16/50 [02:04<04:44,  8.37s/it]"
     ]
    },
    {
     "name": "stdout",
     "output_type": "stream",
     "text": [
      "Fraction of infected nodes:  0.011 ; Initial infected nodes:  900 ; Number of iterations:  254\n",
      "Fraction of infected nodes:  0.004 ; Initial infected nodes:  10 ; Number of iterations:  51\n"
     ]
    },
    {
     "name": "stderr",
     "output_type": "stream",
     "text": [
      " 34%|███▍      | 17/50 [02:14<04:57,  9.02s/it]"
     ]
    },
    {
     "name": "stdout",
     "output_type": "stream",
     "text": [
      "Fraction of infected nodes:  0.005 ; Initial infected nodes:  900 ; Number of iterations:  279\n",
      "Fraction of infected nodes:  0.004 ; Initial infected nodes:  10 ; Number of iterations:  51\n"
     ]
    },
    {
     "name": "stderr",
     "output_type": "stream",
     "text": [
      " 36%|███▌      | 18/50 [02:23<04:43,  8.87s/it]"
     ]
    },
    {
     "name": "stdout",
     "output_type": "stream",
     "text": [
      "Fraction of infected nodes:  0.006 ; Initial infected nodes:  900 ; Number of iterations:  282\n",
      "Fraction of infected nodes:  0.001 ; Initial infected nodes:  10 ; Number of iterations:  69\n"
     ]
    },
    {
     "name": "stderr",
     "output_type": "stream",
     "text": [
      " 38%|███▊      | 19/50 [02:31<04:31,  8.76s/it]"
     ]
    },
    {
     "name": "stdout",
     "output_type": "stream",
     "text": [
      "Fraction of infected nodes:  0.004 ; Initial infected nodes:  900 ; Number of iterations:  270\n",
      "Fraction of infected nodes:  0.002 ; Initial infected nodes:  10 ; Number of iterations:  51\n"
     ]
    },
    {
     "name": "stderr",
     "output_type": "stream",
     "text": [
      " 40%|████      | 20/50 [02:40<04:27,  8.91s/it]"
     ]
    },
    {
     "name": "stdout",
     "output_type": "stream",
     "text": [
      "Fraction of infected nodes:  0.009 ; Initial infected nodes:  900 ; Number of iterations:  240\n",
      "Fraction of infected nodes:  0.005 ; Initial infected nodes:  10 ; Number of iterations:  51\n"
     ]
    },
    {
     "name": "stderr",
     "output_type": "stream",
     "text": [
      " 42%|████▏     | 21/50 [02:50<04:23,  9.09s/it]"
     ]
    },
    {
     "name": "stdout",
     "output_type": "stream",
     "text": [
      "Fraction of infected nodes:  0.01 ; Initial infected nodes:  900 ; Number of iterations:  239\n",
      "Fraction of infected nodes:  0.007 ; Initial infected nodes:  10 ; Number of iterations:  51\n"
     ]
    },
    {
     "name": "stderr",
     "output_type": "stream",
     "text": [
      " 44%|████▍     | 22/50 [03:01<04:29,  9.62s/it]"
     ]
    },
    {
     "name": "stdout",
     "output_type": "stream",
     "text": [
      "Fraction of infected nodes:  0.005 ; Initial infected nodes:  900 ; Number of iterations:  267\n",
      "Fraction of infected nodes:  0.007 ; Initial infected nodes:  10 ; Number of iterations:  51\n"
     ]
    },
    {
     "name": "stderr",
     "output_type": "stream",
     "text": [
      " 46%|████▌     | 23/50 [03:16<05:08, 11.44s/it]"
     ]
    },
    {
     "name": "stdout",
     "output_type": "stream",
     "text": [
      "Fraction of infected nodes:  0.003 ; Initial infected nodes:  900 ; Number of iterations:  277\n",
      "Fraction of infected nodes:  0.007 ; Initial infected nodes:  10 ; Number of iterations:  51\n"
     ]
    },
    {
     "name": "stderr",
     "output_type": "stream",
     "text": [
      " 48%|████▊     | 24/50 [03:29<05:06, 11.78s/it]"
     ]
    },
    {
     "name": "stdout",
     "output_type": "stream",
     "text": [
      "Fraction of infected nodes:  0.009 ; Initial infected nodes:  900 ; Number of iterations:  257\n",
      "Fraction of infected nodes:  0.002 ; Initial infected nodes:  10 ; Number of iterations:  51\n"
     ]
    },
    {
     "name": "stderr",
     "output_type": "stream",
     "text": [
      " 50%|█████     | 25/50 [03:54<06:36, 15.88s/it]"
     ]
    },
    {
     "name": "stdout",
     "output_type": "stream",
     "text": [
      "Fraction of infected nodes:  0.01 ; Initial infected nodes:  900 ; Number of iterations:  281\n",
      "Fraction of infected nodes:  0.007 ; Initial infected nodes:  10 ; Number of iterations:  61\n"
     ]
    },
    {
     "name": "stderr",
     "output_type": "stream",
     "text": [
      " 52%|█████▏    | 26/50 [05:17<14:19, 35.82s/it]"
     ]
    },
    {
     "name": "stdout",
     "output_type": "stream",
     "text": [
      "Fraction of infected nodes:  0.007 ; Initial infected nodes:  900 ; Number of iterations:  391\n",
      "Fraction of infected nodes:  0.005 ; Initial infected nodes:  10 ; Number of iterations:  51\n"
     ]
    },
    {
     "name": "stderr",
     "output_type": "stream",
     "text": [
      " 54%|█████▍    | 27/50 [07:02<21:41, 56.57s/it]"
     ]
    },
    {
     "name": "stdout",
     "output_type": "stream",
     "text": [
      "Fraction of infected nodes:  0.003 ; Initial infected nodes:  900 ; Number of iterations:  465\n",
      "Fraction of infected nodes:  0.002 ; Initial infected nodes:  10 ; Number of iterations:  51\n"
     ]
    },
    {
     "name": "stderr",
     "output_type": "stream",
     "text": [
      " 56%|█████▌    | 28/50 [08:22<23:24, 63.83s/it]"
     ]
    },
    {
     "name": "stdout",
     "output_type": "stream",
     "text": [
      "Fraction of infected nodes:  0.005 ; Initial infected nodes:  900 ; Number of iterations:  407\n",
      "Fraction of infected nodes:  0.004 ; Initial infected nodes:  10 ; Number of iterations:  58\n"
     ]
    },
    {
     "name": "stderr",
     "output_type": "stream",
     "text": [
      " 58%|█████▊    | 29/50 [09:28<22:29, 64.27s/it]"
     ]
    },
    {
     "name": "stdout",
     "output_type": "stream",
     "text": [
      "Fraction of infected nodes:  0.006 ; Initial infected nodes:  900 ; Number of iterations:  411\n",
      "Fraction of infected nodes:  0.005 ; Initial infected nodes:  10 ; Number of iterations:  51\n"
     ]
    },
    {
     "name": "stderr",
     "output_type": "stream",
     "text": [
      " 60%|██████    | 30/50 [10:16<19:47, 59.36s/it]"
     ]
    },
    {
     "name": "stdout",
     "output_type": "stream",
     "text": [
      "Fraction of infected nodes:  0.009 ; Initial infected nodes:  900 ; Number of iterations:  337\n",
      "Fraction of infected nodes:  0.002 ; Initial infected nodes:  10 ; Number of iterations:  51\n"
     ]
    },
    {
     "name": "stderr",
     "output_type": "stream",
     "text": [
      " 62%|██████▏   | 31/50 [11:33<20:29, 64.73s/it]"
     ]
    },
    {
     "name": "stdout",
     "output_type": "stream",
     "text": [
      "Fraction of infected nodes:  0.006 ; Initial infected nodes:  900 ; Number of iterations:  468\n",
      "Fraction of infected nodes:  0.004 ; Initial infected nodes:  10 ; Number of iterations:  51\n"
     ]
    },
    {
     "name": "stderr",
     "output_type": "stream",
     "text": [
      " 64%|██████▍   | 32/50 [12:30<18:42, 62.35s/it]"
     ]
    },
    {
     "name": "stdout",
     "output_type": "stream",
     "text": [
      "Fraction of infected nodes:  0.007 ; Initial infected nodes:  900 ; Number of iterations:  366\n",
      "Fraction of infected nodes:  0.007 ; Initial infected nodes:  10 ; Number of iterations:  84\n"
     ]
    },
    {
     "name": "stderr",
     "output_type": "stream",
     "text": [
      " 66%|██████▌   | 33/50 [14:08<20:42, 73.07s/it]"
     ]
    },
    {
     "name": "stdout",
     "output_type": "stream",
     "text": [
      "Fraction of infected nodes:  0.005 ; Initial infected nodes:  900 ; Number of iterations:  499\n",
      "Fraction of infected nodes:  0.003 ; Initial infected nodes:  10 ; Number of iterations:  51\n"
     ]
    },
    {
     "name": "stderr",
     "output_type": "stream",
     "text": [
      " 68%|██████▊   | 34/50 [15:30<20:11, 75.74s/it]"
     ]
    },
    {
     "name": "stdout",
     "output_type": "stream",
     "text": [
      "Fraction of infected nodes:  0.008 ; Initial infected nodes:  900 ; Number of iterations:  484\n",
      "Fraction of infected nodes:  0.007 ; Initial infected nodes:  10 ; Number of iterations:  51\n"
     ]
    },
    {
     "name": "stderr",
     "output_type": "stream",
     "text": [
      " 70%|███████   | 35/50 [17:01<20:04, 80.32s/it]"
     ]
    },
    {
     "name": "stdout",
     "output_type": "stream",
     "text": [
      "Fraction of infected nodes:  0.01 ; Initial infected nodes:  900 ; Number of iterations:  499\n",
      "Fraction of infected nodes:  0.004 ; Initial infected nodes:  10 ; Number of iterations:  88\n"
     ]
    },
    {
     "name": "stderr",
     "output_type": "stream",
     "text": [
      " 72%|███████▏  | 36/50 [18:17<18:28, 79.21s/it]"
     ]
    },
    {
     "name": "stdout",
     "output_type": "stream",
     "text": [
      "Fraction of infected nodes:  0.004 ; Initial infected nodes:  900 ; Number of iterations:  481\n",
      "Fraction of infected nodes:  0.0 ; Initial infected nodes:  10 ; Number of iterations:  75\n"
     ]
    },
    {
     "name": "stderr",
     "output_type": "stream",
     "text": [
      " 74%|███████▍  | 37/50 [19:31<16:48, 77.60s/it]"
     ]
    },
    {
     "name": "stdout",
     "output_type": "stream",
     "text": [
      "Fraction of infected nodes:  0.006 ; Initial infected nodes:  900 ; Number of iterations:  499\n",
      "Fraction of infected nodes:  0.005 ; Initial infected nodes:  10 ; Number of iterations:  51\n"
     ]
    },
    {
     "name": "stderr",
     "output_type": "stream",
     "text": [
      " 76%|███████▌  | 38/50 [20:33<14:35, 72.92s/it]"
     ]
    },
    {
     "name": "stdout",
     "output_type": "stream",
     "text": [
      "Fraction of infected nodes:  0.006 ; Initial infected nodes:  900 ; Number of iterations:  457\n",
      "Fraction of infected nodes:  0.014 ; Initial infected nodes:  10 ; Number of iterations:  79\n"
     ]
    },
    {
     "name": "stderr",
     "output_type": "stream",
     "text": [
      " 78%|███████▊  | 39/50 [22:06<14:27, 78.89s/it]"
     ]
    },
    {
     "name": "stdout",
     "output_type": "stream",
     "text": [
      "Fraction of infected nodes:  0.021 ; Initial infected nodes:  900 ; Number of iterations:  499\n",
      "Fraction of infected nodes:  0.004 ; Initial infected nodes:  10 ; Number of iterations:  72\n"
     ]
    },
    {
     "name": "stderr",
     "output_type": "stream",
     "text": [
      " 80%|████████  | 40/50 [23:18<12:46, 76.68s/it]"
     ]
    },
    {
     "name": "stdout",
     "output_type": "stream",
     "text": [
      "Fraction of infected nodes:  0.011 ; Initial infected nodes:  900 ; Number of iterations:  482\n",
      "Fraction of infected nodes:  0.005 ; Initial infected nodes:  10 ; Number of iterations:  62\n"
     ]
    },
    {
     "name": "stderr",
     "output_type": "stream",
     "text": [
      " 82%|████████▏ | 41/50 [24:40<11:46, 78.47s/it]"
     ]
    },
    {
     "name": "stdout",
     "output_type": "stream",
     "text": [
      "Fraction of infected nodes:  0.021 ; Initial infected nodes:  900 ; Number of iterations:  499\n",
      "Fraction of infected nodes:  0.011 ; Initial infected nodes:  10 ; Number of iterations:  51\n"
     ]
    },
    {
     "name": "stderr",
     "output_type": "stream",
     "text": [
      " 84%|████████▍ | 42/50 [26:27<11:35, 86.95s/it]"
     ]
    },
    {
     "name": "stdout",
     "output_type": "stream",
     "text": [
      "Fraction of infected nodes:  0.173 ; Initial infected nodes:  900 ; Number of iterations:  499\n",
      "Fraction of infected nodes:  0.011 ; Initial infected nodes:  10 ; Number of iterations:  51\n"
     ]
    },
    {
     "name": "stderr",
     "output_type": "stream",
     "text": [
      " 86%|████████▌ | 43/50 [27:27<09:12, 78.88s/it]"
     ]
    },
    {
     "name": "stdout",
     "output_type": "stream",
     "text": [
      "Fraction of infected nodes:  0.006 ; Initial infected nodes:  900 ; Number of iterations:  479\n",
      "Fraction of infected nodes:  0.004 ; Initial infected nodes:  10 ; Number of iterations:  73\n"
     ]
    },
    {
     "name": "stderr",
     "output_type": "stream",
     "text": [
      " 88%|████████▊ | 44/50 [29:04<08:26, 84.44s/it]"
     ]
    },
    {
     "name": "stdout",
     "output_type": "stream",
     "text": [
      "Fraction of infected nodes:  0.079 ; Initial infected nodes:  900 ; Number of iterations:  499\n",
      "Fraction of infected nodes:  0.011 ; Initial infected nodes:  10 ; Number of iterations:  60\n"
     ]
    },
    {
     "name": "stderr",
     "output_type": "stream",
     "text": [
      " 90%|█████████ | 45/50 [30:40<07:18, 87.73s/it]"
     ]
    },
    {
     "name": "stdout",
     "output_type": "stream",
     "text": [
      "Fraction of infected nodes:  0.17 ; Initial infected nodes:  900 ; Number of iterations:  499\n",
      "Fraction of infected nodes:  0.011 ; Initial infected nodes:  10 ; Number of iterations:  81\n"
     ]
    },
    {
     "name": "stderr",
     "output_type": "stream",
     "text": [
      " 92%|█████████▏| 46/50 [31:57<05:38, 84.69s/it]"
     ]
    },
    {
     "name": "stdout",
     "output_type": "stream",
     "text": [
      "Fraction of infected nodes:  0.037 ; Initial infected nodes:  900 ; Number of iterations:  499\n",
      "Fraction of infected nodes:  0.005 ; Initial infected nodes:  10 ; Number of iterations:  56\n"
     ]
    },
    {
     "name": "stderr",
     "output_type": "stream",
     "text": [
      " 94%|█████████▍| 47/50 [33:06<03:59, 79.80s/it]"
     ]
    },
    {
     "name": "stdout",
     "output_type": "stream",
     "text": [
      "Fraction of infected nodes:  0.029 ; Initial infected nodes:  900 ; Number of iterations:  499\n",
      "Fraction of infected nodes:  0.005 ; Initial infected nodes:  10 ; Number of iterations:  77\n"
     ]
    },
    {
     "name": "stderr",
     "output_type": "stream",
     "text": [
      " 96%|█████████▌| 48/50 [34:18<02:34, 77.48s/it]"
     ]
    },
    {
     "name": "stdout",
     "output_type": "stream",
     "text": [
      "Fraction of infected nodes:  0.049 ; Initial infected nodes:  900 ; Number of iterations:  499\n",
      "Fraction of infected nodes:  0.01 ; Initial infected nodes:  10 ; Number of iterations:  98\n"
     ]
    },
    {
     "name": "stderr",
     "output_type": "stream",
     "text": [
      " 98%|█████████▊| 49/50 [35:50<01:21, 81.88s/it]"
     ]
    },
    {
     "name": "stdout",
     "output_type": "stream",
     "text": [
      "Fraction of infected nodes:  0.328 ; Initial infected nodes:  900 ; Number of iterations:  499\n",
      "Fraction of infected nodes:  0.009 ; Initial infected nodes:  10 ; Number of iterations:  81\n"
     ]
    },
    {
     "name": "stderr",
     "output_type": "stream",
     "text": [
      "100%|██████████| 50/50 [37:18<00:00, 44.76s/it]"
     ]
    },
    {
     "name": "stdout",
     "output_type": "stream",
     "text": [
      "Fraction of infected nodes:  0.25 ; Initial infected nodes:  900 ; Number of iterations:  499\n"
     ]
    },
    {
     "name": "stderr",
     "output_type": "stream",
     "text": [
      "\n"
     ]
    },
    {
     "data": {
      "image/png": "[encoded data removed]",
      "text/plain": [
       "<Figure size 1000x700 with 1 Axes>"
      ]
     },
     "metadata": {},
     "output_type": "display_data"
    }
   ],
   "source": [
    "# network\n",
    "G = nx.erdos_renyi_graph(N, p)\n",
    "# simulation parameters\n",
    "n_iter = 500\n",
    "tol = 1e-5\n",
    "for w in w_list:\n",
    "    make_numerical_graph(G, mu, beta_list, w, m_low, m_high, n_iter, tol)"
   ]
  }
 ],
 "metadata": {
  "kernelspec": {
   "display_name": "base",
   "language": "python",
   "name": "python3"
  },
  "language_info": {
   "codemirror_mode": {
    "name": "ipython",
    "version": 3
   },
   "file_extension": ".py",
   "mimetype": "text/x-python",
   "name": "python",
   "nbconvert_exporter": "python",
   "pygments_lexer": "ipython3",
   "version": "3.9.16"
  }
 },
 "nbformat": 4,
 "nbformat_minor": 2
}
